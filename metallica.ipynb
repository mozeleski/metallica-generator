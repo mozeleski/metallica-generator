{
 "cells": [
  {
   "cell_type": "code",
   "execution_count": 1,
   "metadata": {},
   "outputs": [],
   "source": [
    "import random\n",
    "import numpy as np\n",
    "import pandas as pd\n",
    "from scipy import stats\n",
    "from selenium import webdriver\n",
    "from lib2to3.pgen2 import driver\n",
    "from bs4 import BeautifulSoup as bs"
   ]
  },
  {
   "cell_type": "code",
   "execution_count": 2,
   "metadata": {},
   "outputs": [],
   "source": [
    "link = 'https://www.metallica.com/register/'"
   ]
  },
  {
   "cell_type": "code",
   "execution_count": 3,
   "metadata": {},
   "outputs": [],
   "source": [
    "def get_page(url):\n",
    "    driver = webdriver.Firefox(executable_path='//Users//ty//Downloads//geckodriver')\n",
    "    driver.implicitly_wait(30)\n",
    "    driver.get(url)\n",
    "\n",
    "    cookies_button = driver.find_element('role', 'button')\n",
    "    cookies_button.click()\n",
    "    first_name_button = driver.find_element('id', 'dwfrm_profile_customer_firstname')\n",
    "    return first_name_button\n",
    "\n",
    "def get_information(textfile):\n",
    "    info = {}\n",
    "    with open(textfile) as f:\n",
    "        for line in f:\n",
    "            line = line.strip()\n",
    "            info[line] = {\n",
    "                'user': __get_username(line),\n",
    "                'pass': __get_password(line),\n",
    "                'email': __get_email(line),\n",
    "                'dob': __get_dob(),\n",
    "                'gender': 'Male',\n",
    "                'country': 'United States'\n",
    "            }\n",
    "    return info          \n",
    "\n",
    "def __get_username(s):\n",
    "    # randomly shuffle chars to create a username\n",
    "    random.seed(42)\n",
    "    return f\"{''.join(random.sample(s, len(s)))}1!\".capitalize()\n",
    "\n",
    "def __get_email(s):\n",
    "    return f'{__get_username(s)}@ticketguys.io'\n",
    "\n",
    "def __get_password(s):\n",
    "    return __get_username(s)\n",
    "\n",
    "def __get_dob():\n",
    "    return '05/01/1967'"
   ]
  },
  {
   "cell_type": "code",
   "execution_count": null,
   "metadata": {},
   "outputs": [],
   "source": []
  }
 ],
 "metadata": {
  "interpreter": {
   "hash": "aee8b7b246df8f9039afb4144a1f6fd8d2ca17a180786b69acc140d282b71a49"
  },
  "kernelspec": {
   "display_name": "Python 3.9.1 64-bit",
   "language": "python",
   "name": "python3"
  },
  "language_info": {
   "codemirror_mode": {
    "name": "ipython",
    "version": 3
   },
   "file_extension": ".py",
   "mimetype": "text/x-python",
   "name": "python",
   "nbconvert_exporter": "python",
   "pygments_lexer": "ipython3",
   "version": "3.9.1"
  },
  "orig_nbformat": 4
 },
 "nbformat": 4,
 "nbformat_minor": 2
}
